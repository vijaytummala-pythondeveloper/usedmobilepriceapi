{
 "cells": [
  {
   "cell_type": "code",
   "execution_count": 1,
   "id": "fd40388c",
   "metadata": {},
   "outputs": [],
   "source": [
    "import pandas as pd"
   ]
  },
  {
   "cell_type": "code",
   "execution_count": 2,
   "id": "7f2fb1c3",
   "metadata": {},
   "outputs": [],
   "source": [
    "df = pd.read_csv(\"Flipkart_mobile_brands_scraped_data.csv\")"
   ]
  },
  {
   "cell_type": "code",
   "execution_count": 3,
   "id": "2a09cfc1",
   "metadata": {},
   "outputs": [
    {
     "data": {
      "text/html": [
       "<div>\n",
       "<style scoped>\n",
       "    .dataframe tbody tr th:only-of-type {\n",
       "        vertical-align: middle;\n",
       "    }\n",
       "\n",
       "    .dataframe tbody tr th {\n",
       "        vertical-align: top;\n",
       "    }\n",
       "\n",
       "    .dataframe thead th {\n",
       "        text-align: right;\n",
       "    }\n",
       "</style>\n",
       "<table border=\"1\" class=\"dataframe\">\n",
       "  <thead>\n",
       "    <tr style=\"text-align: right;\">\n",
       "      <th></th>\n",
       "      <th>Brand</th>\n",
       "      <th>Model</th>\n",
       "      <th>Color</th>\n",
       "      <th>Memory</th>\n",
       "      <th>Storage</th>\n",
       "      <th>Rating</th>\n",
       "      <th>Selling Price</th>\n",
       "      <th>Original Price</th>\n",
       "    </tr>\n",
       "  </thead>\n",
       "  <tbody>\n",
       "    <tr>\n",
       "      <th>0</th>\n",
       "      <td>OPPO</td>\n",
       "      <td>A53</td>\n",
       "      <td>Moonlight Black</td>\n",
       "      <td>4 GB</td>\n",
       "      <td>64 GB</td>\n",
       "      <td>4.5</td>\n",
       "      <td>11990.0</td>\n",
       "      <td>15990.0</td>\n",
       "    </tr>\n",
       "    <tr>\n",
       "      <th>1</th>\n",
       "      <td>OPPO</td>\n",
       "      <td>A53</td>\n",
       "      <td>Mint Cream</td>\n",
       "      <td>4 GB</td>\n",
       "      <td>64 GB</td>\n",
       "      <td>4.5</td>\n",
       "      <td>11990.0</td>\n",
       "      <td>15990.0</td>\n",
       "    </tr>\n",
       "    <tr>\n",
       "      <th>2</th>\n",
       "      <td>OPPO</td>\n",
       "      <td>A53</td>\n",
       "      <td>Moonlight Black</td>\n",
       "      <td>6 GB</td>\n",
       "      <td>128 GB</td>\n",
       "      <td>4.3</td>\n",
       "      <td>13990.0</td>\n",
       "      <td>17990.0</td>\n",
       "    </tr>\n",
       "    <tr>\n",
       "      <th>3</th>\n",
       "      <td>OPPO</td>\n",
       "      <td>A53</td>\n",
       "      <td>Mint Cream</td>\n",
       "      <td>6 GB</td>\n",
       "      <td>128 GB</td>\n",
       "      <td>4.3</td>\n",
       "      <td>13990.0</td>\n",
       "      <td>17990.0</td>\n",
       "    </tr>\n",
       "    <tr>\n",
       "      <th>4</th>\n",
       "      <td>OPPO</td>\n",
       "      <td>A53</td>\n",
       "      <td>Electric Black</td>\n",
       "      <td>4 GB</td>\n",
       "      <td>64 GB</td>\n",
       "      <td>4.5</td>\n",
       "      <td>11990.0</td>\n",
       "      <td>15990.0</td>\n",
       "    </tr>\n",
       "  </tbody>\n",
       "</table>\n",
       "</div>"
      ],
      "text/plain": [
       "  Brand Model            Color Memory Storage  Rating  Selling Price  \\\n",
       "0  OPPO   A53  Moonlight Black   4 GB   64 GB     4.5        11990.0   \n",
       "1  OPPO   A53       Mint Cream   4 GB   64 GB     4.5        11990.0   \n",
       "2  OPPO   A53  Moonlight Black   6 GB  128 GB     4.3        13990.0   \n",
       "3  OPPO   A53       Mint Cream   6 GB  128 GB     4.3        13990.0   \n",
       "4  OPPO   A53   Electric Black   4 GB   64 GB     4.5        11990.0   \n",
       "\n",
       "   Original Price  \n",
       "0         15990.0  \n",
       "1         15990.0  \n",
       "2         17990.0  \n",
       "3         17990.0  \n",
       "4         15990.0  "
      ]
     },
     "execution_count": 3,
     "metadata": {},
     "output_type": "execute_result"
    }
   ],
   "source": [
    "df.head()"
   ]
  },
  {
   "cell_type": "code",
   "execution_count": 4,
   "id": "f4e22d96",
   "metadata": {},
   "outputs": [
    {
     "data": {
      "text/plain": [
       "array(['OPPO', 'HTC', 'IQOO', 'Google Pixel', 'LG', 'ASUS', 'realme',\n",
       "       'GIONEE', 'Nokia', 'Apple', 'SAMSUNG', 'Lenovo', 'Motorola',\n",
       "       'POCO', 'vivo', 'Xiaomi'], dtype=object)"
      ]
     },
     "execution_count": 4,
     "metadata": {},
     "output_type": "execute_result"
    }
   ],
   "source": [
    "df['Brand'].unique()"
   ]
  },
  {
   "cell_type": "code",
   "execution_count": 5,
   "id": "a5c9aeca",
   "metadata": {},
   "outputs": [],
   "source": [
    "mobilesbrand_dict = {}\n",
    "count = 0\n",
    "for i in df['Brand'].unique():\n",
    "        mobilesbrand_dict[i] = count\n",
    "        count = count+1"
   ]
  },
  {
   "cell_type": "code",
   "execution_count": 6,
   "id": "5824ee69",
   "metadata": {},
   "outputs": [
    {
     "data": {
      "text/plain": [
       "{'OPPO': 0,\n",
       " 'HTC': 1,\n",
       " 'IQOO': 2,\n",
       " 'Google Pixel': 3,\n",
       " 'LG': 4,\n",
       " 'ASUS': 5,\n",
       " 'realme': 6,\n",
       " 'GIONEE': 7,\n",
       " 'Nokia': 8,\n",
       " 'Apple': 9,\n",
       " 'SAMSUNG': 10,\n",
       " 'Lenovo': 11,\n",
       " 'Motorola': 12,\n",
       " 'POCO': 13,\n",
       " 'vivo': 14,\n",
       " 'Xiaomi': 15}"
      ]
     },
     "execution_count": 6,
     "metadata": {},
     "output_type": "execute_result"
    }
   ],
   "source": [
    "mobilesbrand_dict"
   ]
  },
  {
   "cell_type": "code",
   "execution_count": 7,
   "id": "d3ab1a04",
   "metadata": {},
   "outputs": [],
   "source": [
    "# df['Model'].unique()"
   ]
  },
  {
   "cell_type": "code",
   "execution_count": 8,
   "id": "cfe7a28a",
   "metadata": {},
   "outputs": [
    {
     "data": {
      "text/html": [
       "<div>\n",
       "<style scoped>\n",
       "    .dataframe tbody tr th:only-of-type {\n",
       "        vertical-align: middle;\n",
       "    }\n",
       "\n",
       "    .dataframe tbody tr th {\n",
       "        vertical-align: top;\n",
       "    }\n",
       "\n",
       "    .dataframe thead th {\n",
       "        text-align: right;\n",
       "    }\n",
       "</style>\n",
       "<table border=\"1\" class=\"dataframe\">\n",
       "  <thead>\n",
       "    <tr style=\"text-align: right;\">\n",
       "      <th></th>\n",
       "      <th>Brand</th>\n",
       "      <th>Model</th>\n",
       "      <th>Color</th>\n",
       "      <th>Memory</th>\n",
       "      <th>Storage</th>\n",
       "      <th>Rating</th>\n",
       "      <th>Selling Price</th>\n",
       "      <th>Original Price</th>\n",
       "    </tr>\n",
       "  </thead>\n",
       "  <tbody>\n",
       "    <tr>\n",
       "      <th>0</th>\n",
       "      <td>OPPO</td>\n",
       "      <td>A53</td>\n",
       "      <td>Moonlight Black</td>\n",
       "      <td>4 GB</td>\n",
       "      <td>64 GB</td>\n",
       "      <td>4.5</td>\n",
       "      <td>11990.0</td>\n",
       "      <td>15990.0</td>\n",
       "    </tr>\n",
       "    <tr>\n",
       "      <th>1</th>\n",
       "      <td>OPPO</td>\n",
       "      <td>A53</td>\n",
       "      <td>Mint Cream</td>\n",
       "      <td>4 GB</td>\n",
       "      <td>64 GB</td>\n",
       "      <td>4.5</td>\n",
       "      <td>11990.0</td>\n",
       "      <td>15990.0</td>\n",
       "    </tr>\n",
       "  </tbody>\n",
       "</table>\n",
       "</div>"
      ],
      "text/plain": [
       "  Brand Model            Color Memory Storage  Rating  Selling Price  \\\n",
       "0  OPPO   A53  Moonlight Black   4 GB   64 GB     4.5        11990.0   \n",
       "1  OPPO   A53       Mint Cream   4 GB   64 GB     4.5        11990.0   \n",
       "\n",
       "   Original Price  \n",
       "0         15990.0  \n",
       "1         15990.0  "
      ]
     },
     "execution_count": 8,
     "metadata": {},
     "output_type": "execute_result"
    }
   ],
   "source": [
    "df.head(2)"
   ]
  },
  {
   "cell_type": "code",
   "execution_count": 9,
   "id": "1536b9cf",
   "metadata": {},
   "outputs": [],
   "source": [
    "model_dict = {}\n",
    "count = 0\n",
    "for i in df['Model'].unique():\n",
    "        model_dict[i] = count\n",
    "        count = count+1"
   ]
  },
  {
   "cell_type": "code",
   "execution_count": 59,
   "id": "623f9dd8",
   "metadata": {},
   "outputs": [
    {
     "data": {
      "text/plain": [
       "{'A53': 0,\n",
       " 'A12': 1,\n",
       " 'A53s 5G': 2,\n",
       " 'A33': 3,\n",
       " 'A31': 4,\n",
       " 'A74 5G': 5,\n",
       " 'A11K': 6,\n",
       " 'F17 Pro': 7,\n",
       " 'A54': 8,\n",
       " 'Reno6 5G': 9,\n",
       " 'F17': 10,\n",
       " 'A16': 11,\n",
       " 'Reno5 Pro 5G': 12,\n",
       " 'A15': 13,\n",
       " 'A74 5G BLACK': 14,\n",
       " 'Reno6 Pro 5G': 15,\n",
       " 'Reno2 F': 16,\n",
       " 'Reno3 Pro': 17,\n",
       " 'A15s': 18,\n",
       " 'A15S': 19,\n",
       " 'F19 Pro': 20,\n",
       " 'F19 Pro+ 5G': 21,\n",
       " 'F19': 22,\n",
       " 'A7': 23,\n",
       " 'F5': 24,\n",
       " 'A5s': 25,\n",
       " 'Reno': 26,\n",
       " 'Reno2 Z': 27,\n",
       " 'F15': 28,\n",
       " 'K1': 29,\n",
       " 'A9 2020': 30,\n",
       " 'Find X': 31,\n",
       " 'Reno4 Pro Special Edition': 32,\n",
       " 'F11': 33,\n",
       " 'A5': 34,\n",
       " 'Reno4 Pro': 35,\n",
       " 'A5 2020': 36,\n",
       " 'F3 Deepika Padukone Limited Edition': 37,\n",
       " 'F1 Plus': 38,\n",
       " 'A83 2018 Edition': 39,\n",
       " 'F3': 40,\n",
       " 'A3s': 41,\n",
       " 'A83': 42,\n",
       " 'K3': 43,\n",
       " 'F9': 44,\n",
       " 'A52': 45,\n",
       " 'A71 New Edition': 46,\n",
       " 'Neo 7 4G': 47,\n",
       " 'A71': 48,\n",
       " 'A57': 49,\n",
       " 'A1K': 50,\n",
       " 'A37f': 51,\n",
       " 'F9 Pro': 52,\n",
       " 'F19s': 53,\n",
       " 'A71k': 54,\n",
       " 'A9': 55,\n",
       " 'F3 Plus': 56,\n",
       " 'Rohit Sharma Limited Edition': 57,\n",
       " 'F17 PRO': 58,\n",
       " 'Hardik Pandya Limited Editon': 59,\n",
       " 'Ravichandran Ashwin Limited Edition': 60,\n",
       " 'F11 Pro': 61,\n",
       " 'R1 R829': 62,\n",
       " 'F5 Youth': 63,\n",
       " 'F7': 64,\n",
       " 'Neo 5': 65,\n",
       " 'F1': 66,\n",
       " 'Reno2': 67,\n",
       " 'R17': 68,\n",
       " 'F11 Pro Marvel’s Avengers Limited Edition': 69,\n",
       " 'Reno 10x Zoom': 70,\n",
       " 'F1S': 71,\n",
       " 'N5111': 72,\n",
       " 'U11+ ': 73,\n",
       " 'Wildfire X ': 74,\n",
       " '3': 75,\n",
       " '4a ': 76,\n",
       " '3a XL ': 77,\n",
       " '3 XL ': 78,\n",
       " '3a ': 79,\n",
       " 'XL ': 80,\n",
       " '2 XL ': 81,\n",
       " '2': 82,\n",
       " nan: 83,\n",
       " 'W11 ': 84,\n",
       " 'Velvet Dual Screen ': 85,\n",
       " 'Q60 ': 86,\n",
       " 'L90 Dual ': 87,\n",
       " 'W31 ': 88,\n",
       " 'W31 Plus ': 89,\n",
       " 'K42 ': 90,\n",
       " 'W30 Pro ': 91,\n",
       " 'Candy K9 ': 92,\n",
       " 'K9 4G LTE ': 93,\n",
       " 'W10 ': 94,\n",
       " 'K-10 ': 95,\n",
       " 'W41 ': 96,\n",
       " 'Q Stylus+ ': 97,\n",
       " 'W10 Alpha ': 98,\n",
       " 'W30 ': 99,\n",
       " 'W30 Plus ': 100,\n",
       " 'G7+ ThinQ ': 101,\n",
       " 'Stylus 2 ': 102,\n",
       " 'Max X160 ': 103,\n",
       " 'V20 ': 104,\n",
       " 'G8X ': 105,\n",
       " 'V40 ThinQ ': 106,\n",
       " 'K7i ': 107,\n",
       " 'Nexus4 E960': 108,\n",
       " 'G7 ThinQ ': 109,\n",
       " 'Nexus 5X ': 110,\n",
       " 'G5 ': 111,\n",
       " 'Q6+ ': 112,\n",
       " 'Spirit 4G LTE ': 113,\n",
       " 'Velvet ': 114,\n",
       " 'W41 Plus ': 115,\n",
       " 'Wing ': 116,\n",
       " 'W41 Pro ': 117,\n",
       " 'Optimus L70 ': 118,\n",
       " 'L60 Dual ': 119,\n",
       " 'K8 ': 120,\n",
       " 'G Pro 2 ': 121,\n",
       " 'Optimus L5 II ': 122,\n",
       " 'V30+ ': 123,\n",
       " 'G2 D802 ': 124,\n",
       " 'Q Stylus ': 125,\n",
       " 'Q6 ': 126,\n",
       " 'G6 ': 127,\n",
       " 'K10 2017 ': 128,\n",
       " 'V20a ': 129,\n",
       " 'K10 K420DS ': 130,\n",
       " 'Q7 ': 131,\n",
       " 'X Power ': 132,\n",
       " 'Stylus 2 Plus ': 133,\n",
       " 'K-7 ': 134,\n",
       " 'G3 Beat ': 135,\n",
       " 'G8s ThinQ ': 136,\n",
       " 'G4 ': 137,\n",
       " 'Stylus 3 ': 138,\n",
       " 'L Bello ': 139,\n",
       " 'G4 Stylus 4G LTE ': 140,\n",
       " 'X Cam ': 141,\n",
       " 'Optimus L3 II E425 ': 142,\n",
       " 'Optimus L7 II Dual ': 143,\n",
       " 'L 80 Dual ': 144,\n",
       " 'G3 Stylus ': 145,\n",
       " 'Q7+ ': 146,\n",
       " 'X Screen K500I ': 147,\n",
       " 'Spirit ': 148,\n",
       " 'ROG Phone 5 ': 149,\n",
       " 'ROG Phone 3 ': 150,\n",
       " 'Zenfone Max Pro M1 ': 151,\n",
       " 'Zenfone 2 Laser ZE500KL ': 152,\n",
       " 'ZenFone Max M2 ': 153,\n",
       " 'ZenFone 5Z ': 154,\n",
       " '6Z ': 155,\n",
       " 'Zenfone Go 4.5 ': 156,\n",
       " 'Zenfone Go 5.5 ': 157,\n",
       " 'Zenfone Go 3rd Gen': 158,\n",
       " 'Zenfone Go 2nd Gen': 159,\n",
       " 'Zenfone Go ': 160,\n",
       " 'ZenFone Lite L1 ': 161,\n",
       " 'Zenfone 4 Selfie ': 162,\n",
       " 'ROG Phone II ': 163,\n",
       " 'Zenfone GO ': 164,\n",
       " 'Zenfone Go 5.0 ': 165,\n",
       " 'ZenFone Max Pro M2 ': 166,\n",
       " 'Zenfone Go 5.0 LTE 2nd Gen ': 167,\n",
       " 'Zenfone C ': 168,\n",
       " 'Zenfone Go 5.0 LTE ': 169,\n",
       " 'Zenfone Max ZC550KL ': 170,\n",
       " 'Zenfone Max ': 171,\n",
       " 'Zenfone Go 4.5 LTE ': 172,\n",
       " 'ZenFone Max M1 ': 173,\n",
       " 'ROG ': 174,\n",
       " 'Zenfone Selfie ': 175,\n",
       " 'ROG Phone 5 Pro ': 176,\n",
       " 'ROG Phone 5 Ultimate ': 177,\n",
       " 'Zenfone Live ': 178,\n",
       " 'Zenfone Zoom ': 179,\n",
       " 'C11 2021 ': 180,\n",
       " 'Narzo 30 5G ': 181,\n",
       " 'C20 ': 182,\n",
       " 'C21Y ': 183,\n",
       " '8i ': 184,\n",
       " 'C25s ': 185,\n",
       " '8s 5G ': 186,\n",
       " 'C25Y ': 187,\n",
       " 'C21 ': 188,\n",
       " 'Narzo 30 ': 189,\n",
       " 'Narzo 30A ': 190,\n",
       " '8 5G ': 191,\n",
       " '8 Pro ': 192,\n",
       " 'C15 ': 193,\n",
       " '8': 194,\n",
       " 'C12 ': 195,\n",
       " 'C11 ': 196,\n",
       " '7': 197,\n",
       " 'X7 5G ': 198,\n",
       " 'Narzo 30 Pro 5G ': 199,\n",
       " 'C3 ': 200,\n",
       " 'C15 Qualcomm Edition ': 201,\n",
       " '3i ': 202,\n",
       " '5 Pro ': 203,\n",
       " '7i ': 204,\n",
       " 'C2 ': 205,\n",
       " 'X3 SuperZoom ': 206,\n",
       " 'GT Master Edition ': 207,\n",
       " '6i ': 208,\n",
       " '6': 209,\n",
       " '1': 210,\n",
       " 'X2 ': 211,\n",
       " '5i ': 212,\n",
       " 'X ': 213,\n",
       " 'Narzo 50i ': 214,\n",
       " 'Narzo 50A ': 215,\n",
       " 'X50 Pro 5G ': 216,\n",
       " 'X3 ': 217,\n",
       " 'GT 5G ': 218,\n",
       " 'X50 Pro ': 219,\n",
       " 'X7 Pro 5G ': 220,\n",
       " 'C25 ': 221,\n",
       " '7 Pro ': 222,\n",
       " 'Narzo 20 Pro ': 223,\n",
       " 'Narzo 20A ': 224,\n",
       " 'Narzo 20 ': 225,\n",
       " 'Narzo 10A ': 226,\n",
       " 'Narzo 10 ': 227,\n",
       " '6 Pro ': 228,\n",
       " 'U1 ': 229,\n",
       " 'X2 Pro ': 230,\n",
       " '5s ': 231,\n",
       " 'Max ': 232,\n",
       " 'Max Pro ': 233,\n",
       " 'F8 Neo ': 234,\n",
       " 'F103 Pro ': 235,\n",
       " 'F205 Pro ': 236,\n",
       " 'A1 ': 237,\n",
       " 'S11 Lite ': 238,\n",
       " 'F11 ': 239,\n",
       " 'F10 Plus ': 240,\n",
       " 'L800': 241,\n",
       " 'Pioneer P5W ': 242,\n",
       " 'S96': 243,\n",
       " 'L700': 244,\n",
       " 'P5L ': 245,\n",
       " 'Pioneer P3 ': 246,\n",
       " 'P2S ': 247,\n",
       " 'P5 Mini ': 248,\n",
       " 'P5_W ': 249,\n",
       " 'F9 ': 250,\n",
       " 'X-1 ': 251,\n",
       " 'M5 Lite 4G ': 252,\n",
       " 'P7 ': 253,\n",
       " 'A1 Plus ': 254,\n",
       " 'Pioneer P4 ': 255,\n",
       " 'Pioneer P3S ': 256,\n",
       " 'X1s ': 257,\n",
       " 'F10 ': 258,\n",
       " 'F205 ': 259,\n",
       " 'A1 Lite ': 260,\n",
       " 'Elife S7 ': 261,\n",
       " 'Marathon M5 lite CDMA ': 262,\n",
       " 'Marathon ': 263,\n",
       " 'Marathon M3 ': 264,\n",
       " 'M7 Power ': 265,\n",
       " 'S10 Lite ': 266,\n",
       " 'S6S ': 267,\n",
       " 'M3 ': 268,\n",
       " 'S Plus ': 269,\n",
       " 'Elife E8 ': 270,\n",
       " 'F9 Plus ': 271,\n",
       " 'Pioneer P4S ': 272,\n",
       " 'Marathon M5 Lite ': 273,\n",
       " 'P7 Max ': 274,\n",
       " 'M7 ': 275,\n",
       " 'F103 3GB Version ': 276,\n",
       " 'S6 ': 277,\n",
       " 'S6 Pro ': 278,\n",
       " 'F103 ': 279,\n",
       " 'S11 ': 280,\n",
       " 'V4S ': 281,\n",
       " 'Marathon M5 Plus ': 282,\n",
       " 'Ctrl V5 ': 283,\n",
       " 'G3 ': 284,\n",
       " 'F103 3Gb Version ': 285,\n",
       " 'Elife E7 Mini ': 286,\n",
       " 'Ctrl V4S ': 287,\n",
       " 'M2 ': 288,\n",
       " 'Elife S5.1 ': 289,\n",
       " 'Elife E3 ': 290,\n",
       " 'Pioneer P2 ': 291,\n",
       " 'Pioneer P6 ': 292,\n",
       " '105 DS 2020': 293,\n",
       " 'TA-1010/105': 294,\n",
       " '105': 295,\n",
       " '110 TA-1302 DS': 296,\n",
       " '216 DS': 297,\n",
       " '150 DS 2020': 298,\n",
       " '110 4G': 299,\n",
       " '150 TA-1235 DS': 300,\n",
       " '6310': 301,\n",
       " '105 SS 2021': 302,\n",
       " 'C01 Plus ': 303,\n",
       " '125 DS': 304,\n",
       " '5310ds': 305,\n",
       " '3310 DS 2020': 306,\n",
       " '3.4': 307,\n",
       " '125 TA-1253 DS': 308,\n",
       " 'C20 Plus ': 309,\n",
       " 'G20 ': 310,\n",
       " '5.4': 311,\n",
       " 'TA-1174 / TA-1299': 312,\n",
       " '2.4': 313,\n",
       " 'G10 ': 314,\n",
       " '125 DS 2020': 315,\n",
       " '5310 TA-1212 DS': 316,\n",
       " '216 DS 2020': 317,\n",
       " '215 4G DS 2020': 318,\n",
       " '225 4g ds': 319,\n",
       " '225 4G DS 2020': 320,\n",
       " '2.3': 321,\n",
       " '215 4G DS': 322,\n",
       " '9': 323,\n",
       " '150': 324,\n",
       " '105 DS': 325,\n",
       " '215': 326,\n",
       " '130': 327,\n",
       " '108 Dual SIM': 328,\n",
       " '107 Dual SIM': 329,\n",
       " '150/150 DS': 330,\n",
       " '3.2': 331,\n",
       " '5.1 Plus ': 332,\n",
       " 'Ta -1010/105': 333,\n",
       " '6.1': 334,\n",
       " '2.1': 335,\n",
       " '5': 336,\n",
       " '106': 337,\n",
       " '112': 338,\n",
       " '3.1': 339,\n",
       " '5.1': 340,\n",
       " '220': 341,\n",
       " '2.2': 342,\n",
       " 'Lumia 920 ': 343,\n",
       " '3.1 Plus ': 344,\n",
       " 'Asha 503 ': 345,\n",
       " '110': 346,\n",
       " '225': 347,\n",
       " '8110': 348,\n",
       " '8 Sirocco ': 349,\n",
       " 'RM-1172 / Nokia 230 DS': 350,\n",
       " '5.3': 351,\n",
       " 'Lumia 625 ': 352,\n",
       " '6.1 Plus ': 353,\n",
       " 'Asha 311 ': 354,\n",
       " '8.1': 355,\n",
       " '7.2': 356,\n",
       " '7.1': 357,\n",
       " '8110 4G': 358,\n",
       " 'X2 Dual SIM ': 359,\n",
       " 'Lumia 510 ': 360,\n",
       " '7 Plus ': 361,\n",
       " 'Asha 206': 362,\n",
       " '222': 363,\n",
       " '6.2': 364,\n",
       " '4.2': 365,\n",
       " 'Asha 502 ': 366,\n",
       " 'XPlus ': 367,\n",
       " '515': 368,\n",
       " 'iPhone SE ': 369,\n",
       " 'iPhone XR ': 370,\n",
       " 'iPhone 12 Mini ': 371,\n",
       " 'iPhone 13 Pro ': 372,\n",
       " 'iPhone 11 ': 373,\n",
       " 'iPhone 12 ': 374,\n",
       " 'iPhone 13 ': 375,\n",
       " 'iPhone 13 Mini ': 376,\n",
       " 'iPhone 12 Pro Max ': 377,\n",
       " 'iPhone 12 Pro ': 378,\n",
       " 'iPhone 11 Pro Max ': 379,\n",
       " 'iPhone 8 Plus ': 380,\n",
       " 'iPhone 11 Pro ': 381,\n",
       " 'iPhone XS ': 382,\n",
       " 'iPhone 8 ': 383,\n",
       " 'iPhone 13 Pro Max ': 384,\n",
       " 'iPhone 6s Plus ': 385,\n",
       " 'iPhone 6 Plus ': 386,\n",
       " 'iPhone XS Max ': 387,\n",
       " 'iPhone 7 Plus ': 388,\n",
       " 'iPhone 6s ': 389,\n",
       " 'iPhone 7 ': 390,\n",
       " 'iPhone 6 ': 391,\n",
       " 'iPhone X ': 392,\n",
       " 'iPhone 6s': 393,\n",
       " 'Galaxy F22 ': 394,\n",
       " 'Galaxy F12 ': 395,\n",
       " 'M31s ': 396,\n",
       " 'M02s ': 397,\n",
       " 'Guru 1200': 398,\n",
       " 'Galaxy M02 ': 399,\n",
       " 'Galaxy A12 ': 400,\n",
       " 'Galaxy A22 ': 401,\n",
       " 'Galaxy A22 5G ': 402,\n",
       " 'Galaxy M12 ': 403,\n",
       " 'M31 ': 404,\n",
       " 'M21 2021 Edition ': 405,\n",
       " 'Galaxy A21s ': 406,\n",
       " 'GALAXY M31S ': 407,\n",
       " 'M32 5G ': 408,\n",
       " 'Metro 313 Dual Sim': 409,\n",
       " 'Galaxy M31 ': 410,\n",
       " 'Galaxy Z Flip3 5G ': 411,\n",
       " 'Galaxy M01 ': 412,\n",
       " 'Galaxy A03s ': 413,\n",
       " 'Galaxy F02s ': 414,\n",
       " 'Galaxy A72 ': 415,\n",
       " 'Galaxy M31s ': 416,\n",
       " 'Galaxy M32 ': 417,\n",
       " 'Galaxy A51 ': 418,\n",
       " 'Galaxy F62 ': 419,\n",
       " 'Galaxy A52s 5G ': 420,\n",
       " 'Galaxy M21 2021 Edition ': 421,\n",
       " 'Galaxy M11 ': 422,\n",
       " 'Galaxy S10 Lite ': 423,\n",
       " 'Galaxy F41 ': 424,\n",
       " 'Galaxy A52 ': 425,\n",
       " 'Galaxy A32 ': 426,\n",
       " 'S20 FE 5G ': 427,\n",
       " 'Galaxy S10 ': 428,\n",
       " 'M01 core ': 429,\n",
       " 'GALAXY M51 ': 430,\n",
       " 'Galaxy Note 20 ': 431,\n",
       " 'Guru Music 2': 432,\n",
       " 'Galaxy Note10 Lite ': 433,\n",
       " 'Galaxy A71 ': 434,\n",
       " 'Guru FM Plus SM-B110E/D': 435,\n",
       " 'Galaxy A70s ': 436,\n",
       " 'Guru Music 2 SM-B310E': 437,\n",
       " 'Guru FM Plus': 438,\n",
       " 'Galaxy Z Fold3 5G ': 439,\n",
       " 'Galaxy M32 5G ': 440,\n",
       " 'Guru GT': 441,\n",
       " 'Galaxy A50s ': 442,\n",
       " 'Guru Plus B110': 443,\n",
       " 'Galaxy S9 Plus ': 444,\n",
       " 'Metro 313': 445,\n",
       " 'Galaxy A6 ': 446,\n",
       " 'Galaxy A6+ ': 447,\n",
       " 'Galaxy On7 ': 448,\n",
       " 'Galaxy A70 ': 449,\n",
       " 'Galaxy A31 ': 450,\n",
       " 'M21 2021 Edition': 451,\n",
       " 'Galaxy Note 20 Ultra 5G ': 452,\n",
       " 'Galaxy M01s ': 453,\n",
       " 'Metro 350': 454,\n",
       " 'Galaxy A20s ': 455,\n",
       " 'Galaxy J7 Prime ': 456,\n",
       " 'Galaxy S20 FE ': 457,\n",
       " 'Galaxy A30s ': 458,\n",
       " 'Galaxy A7 ': 459,\n",
       " 'Galaxy J2 Core ': 460,\n",
       " 'Galaxy J6 ': 461,\n",
       " 'Galaxy A20 ': 462,\n",
       " 'Galaxy A10s ': 463,\n",
       " 'Galaxy M21 ': 464,\n",
       " 'Galaxy J2 2018 ': 465,\n",
       " 'Galaxy J7 Nxt ': 466,\n",
       " 'Galaxy M30 ': 467,\n",
       " 'Galaxy M42 ': 468,\n",
       " 'Galaxy J7 Duo ': 469,\n",
       " 'Galaxy A9 ': 470,\n",
       " 'Galaxy J6 Plus ': 471,\n",
       " 'Galaxy Fold 2 ': 472,\n",
       " 'Galaxy J7 - 6 New 2016 Edition) ': 473,\n",
       " 'Galaxy S20 Ultra ': 474,\n",
       " 'Galaxy Note 9 ': 475,\n",
       " 'Galaxy A10 ': 476,\n",
       " 'Metro B313E Dual Sim - White': 477,\n",
       " 'Galaxy M40 ': 478,\n",
       " 'Galaxy J2 ': 479,\n",
       " 'Galaxy A50 ': 480,\n",
       " 'B350': 481,\n",
       " 'Galaxy J2-2017 ': 482,\n",
       " 'Galaxy Grand 2 ': 483,\n",
       " 'Galaxy S10 Plus ': 484,\n",
       " 'Galaxy J4 ': 485,\n",
       " 'Galaxy A30 ': 486,\n",
       " 'Galaxy M51 ': 487,\n",
       " 'Galaxy J5 Prime ': 488,\n",
       " 'Galaxy S6 Edge ': 489,\n",
       " 'Sm-B110E/D': 490,\n",
       " 'Galaxy S21 Ultra ': 491,\n",
       " 'Galaxy J8 ': 492,\n",
       " 'Galaxy A7-2017 ': 493,\n",
       " 'Galaxy J4 Plus ': 494,\n",
       " 'Galaxy A8 Plus ': 495,\n",
       " 'Galaxy A80 ': 496,\n",
       " 'Galaxy M30s ': 497,\n",
       " 'Galaxy S5 ': 498,\n",
       " 'Galaxy J7 Prime 2 ': 499,\n",
       " 'Galaxy S21 Plus ': 500,\n",
       " 'SAMSUNG Metro 350 Dual Sim': 501,\n",
       " 'Galaxy S21 ': 502,\n",
       " 'Galaxy M42 5G ': 503,\n",
       " 'Galaxy On8 ': 504,\n",
       " 'Galaxy S20+ ': 505,\n",
       " 'Galaxy A2 Core ': 506,\n",
       " 'Galaxy M10 ': 507,\n",
       " 'M31 Prime ': 508,\n",
       " 'Galaxy Star 2 ': 509,\n",
       " 'B351E/Metro 350': 510,\n",
       " 'Galaxy S9 ': 511,\n",
       " 'Galaxy A7 2016 Edition ': 512,\n",
       " 'Metro XL': 513,\n",
       " 'Z2 ': 514,\n",
       " 'Galaxy M10S ': 515,\n",
       " 'Galaxy J1 Ace ': 516,\n",
       " 'Z1 ': 517,\n",
       " 'Galaxy M20 ': 518,\n",
       " 'Galaxy J5 ': 519,\n",
       " 'Galaxy On6 ': 520,\n",
       " 'Galaxy Note 5 ': 521,\n",
       " 'Galaxy S4 Mini ': 522,\n",
       " 'Galaxy A9 Pro ': 523,\n",
       " 'Galaxy J2 - 2016 ': 524,\n",
       " 'Galaxy J2 Pro ': 525,\n",
       " 'Galaxy Note 10 Plus ': 526,\n",
       " 'Galaxy S8 ': 527,\n",
       " 'Z4 ': 528,\n",
       " 'Galaxy Star Advance ': 529,\n",
       " 'Galaxy J1 ': 530,\n",
       " 'Galaxy S20 ': 531,\n",
       " 'Galaxy Z Flip ': 532,\n",
       " 'Galaxy Alpha ': 533,\n",
       " 'Galaxy Core Prime G361 Dual Sim - White ': 534,\n",
       " 'Metro': 535,\n",
       " 'Galaxy E7 ': 536,\n",
       " 'Galaxy Note 8 ': 537,\n",
       " 'Galaxy A5-2017 ': 538,\n",
       " 'Tizen Z3 ': 539,\n",
       " 'Galaxy On Nxt ': 540,\n",
       " 'Galaxy M30S ': 541,\n",
       " 'Galaxy J2 Ace ': 542,\n",
       " 'Galaxy S4 ': 543,\n",
       " 'Galaxy Note 3 ': 544,\n",
       " 'Galaxy S Duos 3 ': 545,\n",
       " 'Galaxy A3 ': 546,\n",
       " 'Galaxy Note 3 Neo ': 547,\n",
       " 'Galaxy A8 ': 548,\n",
       " 'Metro B312E Dual Sim - White': 549,\n",
       " 'Galaxy A5 2016 Edition ': 550,\n",
       " 'Galaxy J7 ': 551,\n",
       " 'Galaxy Core ': 552,\n",
       " 'Metro SM-B313ez': 553,\n",
       " 'Galaxy Note 10 ': 554,\n",
       " 'Galaxy Grand Neo ': 555,\n",
       " 'Galaxy Note 4 ': 556,\n",
       " 'On7 Pro ': 557,\n",
       " 'Galaxy S10e ': 558,\n",
       " 'Galaxy S7 Edge ': 559,\n",
       " 'Galaxy A8 Star ': 560,\n",
       " 'Galaxy S3 Neo ': 561,\n",
       " 'Galaxy C7 Pro ': 562,\n",
       " 'GT 1200 R/I/M': 563,\n",
       " 'Galaxy Folder 2 ': 564,\n",
       " 'SM-B310EZDDINS': 565,\n",
       " 'Galaxy J5 - 6 New 2016 Edition) ': 566,\n",
       " 'Metro 360': 567,\n",
       " 'Z3 ': 568,\n",
       " 'Grand Prime 4G ': 569,\n",
       " 'Galaxy Ace NXT ': 570,\n",
       " 'Fold 2 5G ': 571,\n",
       " 'Galaxy Core Prime ': 572,\n",
       " 'On5 Pro ': 573,\n",
       " 'Galaxy A5 ': 574,\n",
       " 'Guru E1207T': 575,\n",
       " 'Galaxy Star ': 576,\n",
       " 'Galaxy Grand Neo Plus ': 577,\n",
       " 'Galaxy Note Edge ': 578,\n",
       " 'Galaxy S6 ': 579,\n",
       " 'Grand Prime ': 580,\n",
       " 'Galaxy S8 Plus ': 581,\n",
       " 'Rex 60': 582,\n",
       " 'Galaxy S7 ': 583,\n",
       " 'Galaxy E5 ': 584,\n",
       " 'Galaxy Star Pro ': 585,\n",
       " 'Galaxy Trend ': 586,\n",
       " 'Sm-G361Hhadins ': 587,\n",
       " 'Galaxy Grand Quattro ': 588,\n",
       " 'Galaxy Grand I9082 ': 589,\n",
       " 'Galaxy Mega 5.8 ': 590,\n",
       " 'Galaxy Note 5 Dual ': 591,\n",
       " 'GURU FM PLUS': 592,\n",
       " 'Galaxy Core 2 ': 593,\n",
       " 'Galaxy Pocket Neo ': 594,\n",
       " 'Galaxy S Duos 2 ': 595,\n",
       " 'Galaxy S4 Zoom ': 596,\n",
       " 'Galaxy Grand Prime 4g ': 597,\n",
       " 'S7 Edge ': 598,\n",
       " 'Galaxy S6 Edge+ ': 599,\n",
       " 'A6600d40 ': 600,\n",
       " 'K8 Plus ': 601,\n",
       " 'K3 Note ': 602,\n",
       " 'S930 ': 603,\n",
       " 'A269i ': 604,\n",
       " 'A7 ': 605,\n",
       " 'A5 ': 606,\n",
       " 'A2010 ': 607,\n",
       " 'Vibe Shot ': 608,\n",
       " 'A7700 ': 609,\n",
       " 'K8 Note ': 610,\n",
       " 'K9 ': 611,\n",
       " 'VIBE P1m ': 612,\n",
       " 'Z2 Plus ': 613,\n",
       " 'Vibe K5 Note ': 614,\n",
       " 'B ': 615,\n",
       " 'S850 ': 616,\n",
       " 'A6600 ': 617,\n",
       " 'A5000 ': 618,\n",
       " 'A6600 Plus ': 619,\n",
       " 'A536 ': 620,\n",
       " 'A7000 ': 621,\n",
       " 'K10 Note ': 622,\n",
       " 'A7000 Turbo ': 623,\n",
       " 'Vibe K5 Plus ': 624,\n",
       " 'K6 Note ': 625,\n",
       " 'K6 Power ': 626,\n",
       " 'X2-AP ': 627,\n",
       " 'K10 Plus ': 628,\n",
       " 'P770 ': 629,\n",
       " 'VIBE P1 ': 630,\n",
       " 'K4 Note ': 631,\n",
       " 'S660 ': 632,\n",
       " 'Vibe Z2 Pro ': 633,\n",
       " 'K9 Note ': 634,\n",
       " 'P780 ': 635,\n",
       " 'A850 ': 636,\n",
       " 'A390 ': 637,\n",
       " 'P2 ': 638,\n",
       " 'A328 ': 639,\n",
       " 'A6 Note ': 640,\n",
       " 'Vibe P1 Turbo ': 641,\n",
       " 'A1000 ': 642,\n",
       " 'A6000 Plus ': 643,\n",
       " 'S560 ': 644,\n",
       " 'Sisley S60 ': 645,\n",
       " 'P70 ': 646,\n",
       " 'A319 ': 647,\n",
       " 'S90 Or Sisley S90 ': 648,\n",
       " 'A6000 Shot ': 649,\n",
       " 'Vibe S1 ': 650,\n",
       " 'K6 POWER ': 651,\n",
       " 'K3 Note Music ': 652,\n",
       " 'ZUK Z1 ': 653,\n",
       " 'E7 Power ': 654,\n",
       " 'Edge 20 Fusion ': 655,\n",
       " 'G10 Power ': 656,\n",
       " 'G60 ': 657,\n",
       " 'G40 Fusion ': 658,\n",
       " '2nd Generation ': 659,\n",
       " 'Edge 20 ': 660,\n",
       " 'G8 Power Lite ': 661,\n",
       " 'X4': 662,\n",
       " 'Razr 5G ': 663,\n",
       " 'E5': 664,\n",
       " 'Razr ': 665,\n",
       " 'X Play': 666,\n",
       " 'C Plus': 667,\n",
       " 'G6': 668,\n",
       " 'M': 669,\n",
       " 'One Vision ': 670,\n",
       " 'G30 ': 671,\n",
       " 'G5': 672,\n",
       " 'G9 Power ': 673,\n",
       " 'G 2nd Generation ': 674,\n",
       " 'One Fusion+ ': 675,\n",
       " 'G9 ': 676,\n",
       " 'E7 Plus ': 677,\n",
       " 'One Action ': 678,\n",
       " 'E 2nd Gen 3G ': 679,\n",
       " 'E6s': 680,\n",
       " 'C': 681,\n",
       " 'E5 Plus': 682,\n",
       " 'Edge+ ': 683,\n",
       " 'G 3rd Generation ': 684,\n",
       " 'One Macro ': 685,\n",
       " 'G5s': 686,\n",
       " 'X 2nd Generation ': 687,\n",
       " 'G7': 688,\n",
       " 'One': 689,\n",
       " 'Z2 Play': 690,\n",
       " 'One Power ': 691,\n",
       " 'Quench X T3': 692,\n",
       " 'G8 Plus': 693,\n",
       " 'G': 694,\n",
       " 'G6 Play': 695,\n",
       " 'XT502': 696,\n",
       " 'G6 Plus ': 697,\n",
       " 'G4 Plus': 698,\n",
       " 'G7 Power': 699,\n",
       " 'G4': 700,\n",
       " 'Z Play': 701,\n",
       " 'G5 Plus': 702,\n",
       " 'Z2 Force': 703,\n",
       " 'X3 Pro ': 704,\n",
       " 'M3 Pro 5G ': 705,\n",
       " 'M2 Reloaded ': 706,\n",
       " 'Y20G ': 707,\n",
       " 'Y21 ': 708,\n",
       " 'Y20A 2021 ': 709,\n",
       " 'Y33s ': 710,\n",
       " 'Y20A ': 711,\n",
       " 'Y12s ': 712,\n",
       " 'Y20G 2021 ': 713,\n",
       " 'Y73 ': 714,\n",
       " 'Y1s ': 715,\n",
       " 'Y12G ': 716,\n",
       " 'Y51A ': 717,\n",
       " 'Y1S ': 718,\n",
       " 'Y72 5G ': 719,\n",
       " 'V21e ': 720,\n",
       " 'Y20 ': 721,\n",
       " 'V20 SE ': 722,\n",
       " 'Y11 ': 723,\n",
       " 'Y53s ': 724,\n",
       " 'X60 ': 725,\n",
       " 'V20 2021 ': 726,\n",
       " 'V21 5G ': 727,\n",
       " 'Y91i ': 728,\n",
       " 'Y31 ': 729,\n",
       " 'Y30 ': 730,\n",
       " 'V20 Pro ': 731,\n",
       " 'Mi 10 ': 732,\n",
       " 'Mi 10i ': 733,\n",
       " 'Mi 10T ': 734,\n",
       " 'Mi 11 Lite ': 735,\n",
       " 'Mi 11X ': 736,\n",
       " 'MI 11X 5G ': 737,\n",
       " 'Mi 11X Pro 5G ': 738,\n",
       " 'Mi A2 ': 739,\n",
       " 'Mi A3 ': 740,\n",
       " 'Mi Max 2 ': 741,\n",
       " 'MI3 ': 742,\n",
       " 'Redmi 5 ': 743,\n",
       " 'Redmi 6 ': 744,\n",
       " 'Redmi 6 Pro ': 745,\n",
       " 'Redmi 6A ': 746,\n",
       " 'Redmi 7 ': 747,\n",
       " 'Redmi 7A ': 748,\n",
       " 'Redmi 8 ': 749,\n",
       " 'Redmi 8A ': 750,\n",
       " 'Redmi 8A Dual ': 751,\n",
       " 'Redmi 9 ': 752,\n",
       " 'REDMI 9 Power ': 753,\n",
       " 'REDMI 9 Prime ': 754,\n",
       " 'Redmi 9A ': 755,\n",
       " 'REDMI 9i ': 756,\n",
       " 'Redmi K20 ': 757,\n",
       " 'Redmi K20 Pro ': 758,\n",
       " 'REDMI Note 10 Pro ': 759,\n",
       " 'REDMI Note 10S ': 760,\n",
       " 'Redmi Note 4 ': 761,\n",
       " 'Redmi Note 5 ': 762,\n",
       " 'Redmi Note 5 Pro ': 763,\n",
       " 'Redmi Note 6 Pro ': 764,\n",
       " 'Redmi Note 7 ': 765,\n",
       " 'Redmi Note 7 Pro ': 766,\n",
       " 'Redmi Note 7S ': 767,\n",
       " 'Redmi Note 8 ': 768,\n",
       " 'REDMI Note 9 ': 769,\n",
       " 'Redmi Note 9 Pro ': 770,\n",
       " 'Redmi Y1 ': 771,\n",
       " 'Redmi Y2 ': 772,\n",
       " 'Redmi Y3 ': 773}"
      ]
     },
     "execution_count": 59,
     "metadata": {},
     "output_type": "execute_result"
    }
   ],
   "source": [
    "model_dict"
   ]
  },
  {
   "cell_type": "code",
   "execution_count": 11,
   "id": "13e71175",
   "metadata": {},
   "outputs": [
    {
     "data": {
      "text/plain": [
       "Brand                0\n",
       "Model                2\n",
       "Color              142\n",
       "Memory              42\n",
       "Storage             79\n",
       "Rating               0\n",
       "Selling Price        3\n",
       "Original Price    1678\n",
       "dtype: int64"
      ]
     },
     "execution_count": 11,
     "metadata": {},
     "output_type": "execute_result"
    }
   ],
   "source": [
    "df.isnull().sum()"
   ]
  },
  {
   "cell_type": "code",
   "execution_count": 12,
   "id": "ca821014",
   "metadata": {},
   "outputs": [
    {
     "data": {
      "text/plain": [
       "(2647, 8)"
      ]
     },
     "execution_count": 12,
     "metadata": {},
     "output_type": "execute_result"
    }
   ],
   "source": [
    "df.shape"
   ]
  },
  {
   "cell_type": "code",
   "execution_count": 13,
   "id": "a8efe687",
   "metadata": {},
   "outputs": [],
   "source": [
    "# droping color column and Original price column"
   ]
  },
  {
   "cell_type": "code",
   "execution_count": 14,
   "id": "12742482",
   "metadata": {},
   "outputs": [],
   "source": [
    "df.drop(['Color','Original Price'],axis=1,inplace=True)"
   ]
  },
  {
   "cell_type": "code",
   "execution_count": 15,
   "id": "7aa052e2",
   "metadata": {},
   "outputs": [
    {
     "data": {
      "text/html": [
       "<div>\n",
       "<style scoped>\n",
       "    .dataframe tbody tr th:only-of-type {\n",
       "        vertical-align: middle;\n",
       "    }\n",
       "\n",
       "    .dataframe tbody tr th {\n",
       "        vertical-align: top;\n",
       "    }\n",
       "\n",
       "    .dataframe thead th {\n",
       "        text-align: right;\n",
       "    }\n",
       "</style>\n",
       "<table border=\"1\" class=\"dataframe\">\n",
       "  <thead>\n",
       "    <tr style=\"text-align: right;\">\n",
       "      <th></th>\n",
       "      <th>Brand</th>\n",
       "      <th>Model</th>\n",
       "      <th>Memory</th>\n",
       "      <th>Storage</th>\n",
       "      <th>Rating</th>\n",
       "      <th>Selling Price</th>\n",
       "    </tr>\n",
       "  </thead>\n",
       "  <tbody>\n",
       "    <tr>\n",
       "      <th>0</th>\n",
       "      <td>OPPO</td>\n",
       "      <td>A53</td>\n",
       "      <td>4 GB</td>\n",
       "      <td>64 GB</td>\n",
       "      <td>4.5</td>\n",
       "      <td>11990.0</td>\n",
       "    </tr>\n",
       "    <tr>\n",
       "      <th>1</th>\n",
       "      <td>OPPO</td>\n",
       "      <td>A53</td>\n",
       "      <td>4 GB</td>\n",
       "      <td>64 GB</td>\n",
       "      <td>4.5</td>\n",
       "      <td>11990.0</td>\n",
       "    </tr>\n",
       "  </tbody>\n",
       "</table>\n",
       "</div>"
      ],
      "text/plain": [
       "  Brand Model Memory Storage  Rating  Selling Price\n",
       "0  OPPO   A53   4 GB   64 GB     4.5        11990.0\n",
       "1  OPPO   A53   4 GB   64 GB     4.5        11990.0"
      ]
     },
     "execution_count": 15,
     "metadata": {},
     "output_type": "execute_result"
    }
   ],
   "source": [
    "df.head(2)"
   ]
  },
  {
   "cell_type": "code",
   "execution_count": 16,
   "id": "50b80971",
   "metadata": {},
   "outputs": [
    {
     "data": {
      "text/plain": [
       "Brand             object\n",
       "Model             object\n",
       "Memory            object\n",
       "Storage           object\n",
       "Rating           float64\n",
       "Selling Price    float64\n",
       "dtype: object"
      ]
     },
     "execution_count": 16,
     "metadata": {},
     "output_type": "execute_result"
    }
   ],
   "source": [
    "df.dtypes"
   ]
  },
  {
   "cell_type": "code",
   "execution_count": 17,
   "id": "e2b682f5",
   "metadata": {},
   "outputs": [],
   "source": [
    "df.dropna(inplace=True)"
   ]
  },
  {
   "cell_type": "code",
   "execution_count": 18,
   "id": "d1aa36e8",
   "metadata": {},
   "outputs": [
    {
     "data": {
      "text/plain": [
       "(2540, 6)"
      ]
     },
     "execution_count": 18,
     "metadata": {},
     "output_type": "execute_result"
    }
   ],
   "source": [
    "df.shape"
   ]
  },
  {
   "cell_type": "code",
   "execution_count": 19,
   "id": "0f19c100",
   "metadata": {},
   "outputs": [],
   "source": [
    "import numpy as np"
   ]
  },
  {
   "cell_type": "code",
   "execution_count": 20,
   "id": "df62a73b",
   "metadata": {},
   "outputs": [],
   "source": [
    "def convert_memory(x):\n",
    "    try:\n",
    "        res = float(x.split(' ')[0])\n",
    "        return res\n",
    "    except:\n",
    "        return np.NAN\n",
    "    \n",
    "    "
   ]
  },
  {
   "cell_type": "code",
   "execution_count": 21,
   "id": "a8216606",
   "metadata": {},
   "outputs": [
    {
     "data": {
      "text/html": [
       "<div>\n",
       "<style scoped>\n",
       "    .dataframe tbody tr th:only-of-type {\n",
       "        vertical-align: middle;\n",
       "    }\n",
       "\n",
       "    .dataframe tbody tr th {\n",
       "        vertical-align: top;\n",
       "    }\n",
       "\n",
       "    .dataframe thead th {\n",
       "        text-align: right;\n",
       "    }\n",
       "</style>\n",
       "<table border=\"1\" class=\"dataframe\">\n",
       "  <thead>\n",
       "    <tr style=\"text-align: right;\">\n",
       "      <th></th>\n",
       "      <th>Brand</th>\n",
       "      <th>Model</th>\n",
       "      <th>Memory</th>\n",
       "      <th>Storage</th>\n",
       "      <th>Rating</th>\n",
       "      <th>Selling Price</th>\n",
       "    </tr>\n",
       "  </thead>\n",
       "  <tbody>\n",
       "    <tr>\n",
       "      <th>0</th>\n",
       "      <td>OPPO</td>\n",
       "      <td>A53</td>\n",
       "      <td>4 GB</td>\n",
       "      <td>64 GB</td>\n",
       "      <td>4.5</td>\n",
       "      <td>11990.0</td>\n",
       "    </tr>\n",
       "    <tr>\n",
       "      <th>1</th>\n",
       "      <td>OPPO</td>\n",
       "      <td>A53</td>\n",
       "      <td>4 GB</td>\n",
       "      <td>64 GB</td>\n",
       "      <td>4.5</td>\n",
       "      <td>11990.0</td>\n",
       "    </tr>\n",
       "    <tr>\n",
       "      <th>2</th>\n",
       "      <td>OPPO</td>\n",
       "      <td>A53</td>\n",
       "      <td>6 GB</td>\n",
       "      <td>128 GB</td>\n",
       "      <td>4.3</td>\n",
       "      <td>13990.0</td>\n",
       "    </tr>\n",
       "    <tr>\n",
       "      <th>3</th>\n",
       "      <td>OPPO</td>\n",
       "      <td>A53</td>\n",
       "      <td>6 GB</td>\n",
       "      <td>128 GB</td>\n",
       "      <td>4.3</td>\n",
       "      <td>13990.0</td>\n",
       "    </tr>\n",
       "    <tr>\n",
       "      <th>4</th>\n",
       "      <td>OPPO</td>\n",
       "      <td>A53</td>\n",
       "      <td>4 GB</td>\n",
       "      <td>64 GB</td>\n",
       "      <td>4.5</td>\n",
       "      <td>11990.0</td>\n",
       "    </tr>\n",
       "  </tbody>\n",
       "</table>\n",
       "</div>"
      ],
      "text/plain": [
       "  Brand Model Memory Storage  Rating  Selling Price\n",
       "0  OPPO   A53   4 GB   64 GB     4.5        11990.0\n",
       "1  OPPO   A53   4 GB   64 GB     4.5        11990.0\n",
       "2  OPPO   A53   6 GB  128 GB     4.3        13990.0\n",
       "3  OPPO   A53   6 GB  128 GB     4.3        13990.0\n",
       "4  OPPO   A53   4 GB   64 GB     4.5        11990.0"
      ]
     },
     "execution_count": 21,
     "metadata": {},
     "output_type": "execute_result"
    }
   ],
   "source": [
    "df.head()"
   ]
  },
  {
   "cell_type": "code",
   "execution_count": 22,
   "id": "625218a8",
   "metadata": {},
   "outputs": [],
   "source": [
    "df['Memory'] = df['Memory'].apply(convert_memory)"
   ]
  },
  {
   "cell_type": "code",
   "execution_count": 23,
   "id": "f4c3ac89",
   "metadata": {},
   "outputs": [
    {
     "data": {
      "text/plain": [
       "Brand             object\n",
       "Model             object\n",
       "Memory           float64\n",
       "Storage           object\n",
       "Rating           float64\n",
       "Selling Price    float64\n",
       "dtype: object"
      ]
     },
     "execution_count": 23,
     "metadata": {},
     "output_type": "execute_result"
    }
   ],
   "source": [
    "df.dtypes"
   ]
  },
  {
   "cell_type": "code",
   "execution_count": 24,
   "id": "cada4b93",
   "metadata": {},
   "outputs": [
    {
     "data": {
      "text/plain": [
       "0       4.0\n",
       "1       4.0\n",
       "2       6.0\n",
       "3       6.0\n",
       "4       4.0\n",
       "       ... \n",
       "2642    4.0\n",
       "2643    3.0\n",
       "2644    4.0\n",
       "2645    3.0\n",
       "2646    4.0\n",
       "Name: Memory, Length: 2540, dtype: float64"
      ]
     },
     "execution_count": 24,
     "metadata": {},
     "output_type": "execute_result"
    }
   ],
   "source": [
    "df['Memory']"
   ]
  },
  {
   "cell_type": "code",
   "execution_count": 25,
   "id": "cd546ac3",
   "metadata": {},
   "outputs": [
    {
     "data": {
      "text/plain": [
       "(2540, 6)"
      ]
     },
     "execution_count": 25,
     "metadata": {},
     "output_type": "execute_result"
    }
   ],
   "source": [
    "df.shape"
   ]
  },
  {
   "cell_type": "code",
   "execution_count": 26,
   "id": "a7991349",
   "metadata": {},
   "outputs": [],
   "source": [
    "df['Storage'] = df['Storage'].apply(convert_memory)"
   ]
  },
  {
   "cell_type": "code",
   "execution_count": 27,
   "id": "d4de87d2",
   "metadata": {},
   "outputs": [
    {
     "data": {
      "text/plain": [
       "(2540, 6)"
      ]
     },
     "execution_count": 27,
     "metadata": {},
     "output_type": "execute_result"
    }
   ],
   "source": [
    "df.shape"
   ]
  },
  {
   "cell_type": "code",
   "execution_count": 28,
   "id": "9e1cdda9",
   "metadata": {},
   "outputs": [
    {
     "data": {
      "text/plain": [
       "Brand             object\n",
       "Model             object\n",
       "Memory           float64\n",
       "Storage          float64\n",
       "Rating           float64\n",
       "Selling Price    float64\n",
       "dtype: object"
      ]
     },
     "execution_count": 28,
     "metadata": {},
     "output_type": "execute_result"
    }
   ],
   "source": [
    "df.dtypes"
   ]
  },
  {
   "cell_type": "code",
   "execution_count": 29,
   "id": "4aa7d16f",
   "metadata": {},
   "outputs": [],
   "source": [
    "df['Brand'] = df['Brand'].map(mobilesbrand_dict)\n",
    "df['Model'] = df['Model'].map(model_dict)"
   ]
  },
  {
   "cell_type": "code",
   "execution_count": 30,
   "id": "c08f3901",
   "metadata": {},
   "outputs": [
    {
     "data": {
      "text/plain": [
       "Brand              int64\n",
       "Model              int64\n",
       "Memory           float64\n",
       "Storage          float64\n",
       "Rating           float64\n",
       "Selling Price    float64\n",
       "dtype: object"
      ]
     },
     "execution_count": 30,
     "metadata": {},
     "output_type": "execute_result"
    }
   ],
   "source": [
    "df.dtypes"
   ]
  },
  {
   "cell_type": "code",
   "execution_count": 31,
   "id": "202846d1",
   "metadata": {},
   "outputs": [],
   "source": [
    "import sklearn"
   ]
  },
  {
   "cell_type": "code",
   "execution_count": 32,
   "id": "c624c9da",
   "metadata": {},
   "outputs": [
    {
     "data": {
      "text/html": [
       "<div>\n",
       "<style scoped>\n",
       "    .dataframe tbody tr th:only-of-type {\n",
       "        vertical-align: middle;\n",
       "    }\n",
       "\n",
       "    .dataframe tbody tr th {\n",
       "        vertical-align: top;\n",
       "    }\n",
       "\n",
       "    .dataframe thead th {\n",
       "        text-align: right;\n",
       "    }\n",
       "</style>\n",
       "<table border=\"1\" class=\"dataframe\">\n",
       "  <thead>\n",
       "    <tr style=\"text-align: right;\">\n",
       "      <th></th>\n",
       "      <th>Brand</th>\n",
       "      <th>Model</th>\n",
       "      <th>Memory</th>\n",
       "      <th>Storage</th>\n",
       "      <th>Rating</th>\n",
       "      <th>Selling Price</th>\n",
       "    </tr>\n",
       "  </thead>\n",
       "  <tbody>\n",
       "    <tr>\n",
       "      <th>0</th>\n",
       "      <td>0</td>\n",
       "      <td>0</td>\n",
       "      <td>4.0</td>\n",
       "      <td>64.0</td>\n",
       "      <td>4.5</td>\n",
       "      <td>11990.0</td>\n",
       "    </tr>\n",
       "    <tr>\n",
       "      <th>1</th>\n",
       "      <td>0</td>\n",
       "      <td>0</td>\n",
       "      <td>4.0</td>\n",
       "      <td>64.0</td>\n",
       "      <td>4.5</td>\n",
       "      <td>11990.0</td>\n",
       "    </tr>\n",
       "    <tr>\n",
       "      <th>2</th>\n",
       "      <td>0</td>\n",
       "      <td>0</td>\n",
       "      <td>6.0</td>\n",
       "      <td>128.0</td>\n",
       "      <td>4.3</td>\n",
       "      <td>13990.0</td>\n",
       "    </tr>\n",
       "    <tr>\n",
       "      <th>3</th>\n",
       "      <td>0</td>\n",
       "      <td>0</td>\n",
       "      <td>6.0</td>\n",
       "      <td>128.0</td>\n",
       "      <td>4.3</td>\n",
       "      <td>13990.0</td>\n",
       "    </tr>\n",
       "    <tr>\n",
       "      <th>4</th>\n",
       "      <td>0</td>\n",
       "      <td>0</td>\n",
       "      <td>4.0</td>\n",
       "      <td>64.0</td>\n",
       "      <td>4.5</td>\n",
       "      <td>11990.0</td>\n",
       "    </tr>\n",
       "    <tr>\n",
       "      <th>5</th>\n",
       "      <td>0</td>\n",
       "      <td>0</td>\n",
       "      <td>6.0</td>\n",
       "      <td>128.0</td>\n",
       "      <td>4.3</td>\n",
       "      <td>13990.0</td>\n",
       "    </tr>\n",
       "    <tr>\n",
       "      <th>6</th>\n",
       "      <td>0</td>\n",
       "      <td>1</td>\n",
       "      <td>4.0</td>\n",
       "      <td>64.0</td>\n",
       "      <td>4.4</td>\n",
       "      <td>10490.0</td>\n",
       "    </tr>\n",
       "    <tr>\n",
       "      <th>7</th>\n",
       "      <td>0</td>\n",
       "      <td>1</td>\n",
       "      <td>3.0</td>\n",
       "      <td>32.0</td>\n",
       "      <td>4.4</td>\n",
       "      <td>9490.0</td>\n",
       "    </tr>\n",
       "    <tr>\n",
       "      <th>8</th>\n",
       "      <td>0</td>\n",
       "      <td>1</td>\n",
       "      <td>3.0</td>\n",
       "      <td>32.0</td>\n",
       "      <td>4.4</td>\n",
       "      <td>9490.0</td>\n",
       "    </tr>\n",
       "    <tr>\n",
       "      <th>9</th>\n",
       "      <td>0</td>\n",
       "      <td>1</td>\n",
       "      <td>3.0</td>\n",
       "      <td>32.0</td>\n",
       "      <td>4.4</td>\n",
       "      <td>9490.0</td>\n",
       "    </tr>\n",
       "    <tr>\n",
       "      <th>10</th>\n",
       "      <td>0</td>\n",
       "      <td>1</td>\n",
       "      <td>3.0</td>\n",
       "      <td>32.0</td>\n",
       "      <td>4.4</td>\n",
       "      <td>9490.0</td>\n",
       "    </tr>\n",
       "    <tr>\n",
       "      <th>11</th>\n",
       "      <td>0</td>\n",
       "      <td>1</td>\n",
       "      <td>4.0</td>\n",
       "      <td>64.0</td>\n",
       "      <td>4.4</td>\n",
       "      <td>10490.0</td>\n",
       "    </tr>\n",
       "    <tr>\n",
       "      <th>12</th>\n",
       "      <td>0</td>\n",
       "      <td>2</td>\n",
       "      <td>6.0</td>\n",
       "      <td>128.0</td>\n",
       "      <td>4.3</td>\n",
       "      <td>15990.0</td>\n",
       "    </tr>\n",
       "    <tr>\n",
       "      <th>13</th>\n",
       "      <td>0</td>\n",
       "      <td>2</td>\n",
       "      <td>6.0</td>\n",
       "      <td>128.0</td>\n",
       "      <td>4.3</td>\n",
       "      <td>15990.0</td>\n",
       "    </tr>\n",
       "    <tr>\n",
       "      <th>14</th>\n",
       "      <td>0</td>\n",
       "      <td>1</td>\n",
       "      <td>4.0</td>\n",
       "      <td>64.0</td>\n",
       "      <td>4.4</td>\n",
       "      <td>10490.0</td>\n",
       "    </tr>\n",
       "    <tr>\n",
       "      <th>15</th>\n",
       "      <td>0</td>\n",
       "      <td>2</td>\n",
       "      <td>8.0</td>\n",
       "      <td>128.0</td>\n",
       "      <td>4.3</td>\n",
       "      <td>17990.0</td>\n",
       "    </tr>\n",
       "    <tr>\n",
       "      <th>16</th>\n",
       "      <td>0</td>\n",
       "      <td>2</td>\n",
       "      <td>8.0</td>\n",
       "      <td>128.0</td>\n",
       "      <td>4.3</td>\n",
       "      <td>17990.0</td>\n",
       "    </tr>\n",
       "    <tr>\n",
       "      <th>17</th>\n",
       "      <td>0</td>\n",
       "      <td>3</td>\n",
       "      <td>3.0</td>\n",
       "      <td>32.0</td>\n",
       "      <td>4.3</td>\n",
       "      <td>10490.0</td>\n",
       "    </tr>\n",
       "    <tr>\n",
       "      <th>18</th>\n",
       "      <td>0</td>\n",
       "      <td>4</td>\n",
       "      <td>4.0</td>\n",
       "      <td>64.0</td>\n",
       "      <td>4.3</td>\n",
       "      <td>11960.0</td>\n",
       "    </tr>\n",
       "    <tr>\n",
       "      <th>19</th>\n",
       "      <td>0</td>\n",
       "      <td>4</td>\n",
       "      <td>4.0</td>\n",
       "      <td>64.0</td>\n",
       "      <td>4.3</td>\n",
       "      <td>11779.0</td>\n",
       "    </tr>\n",
       "  </tbody>\n",
       "</table>\n",
       "</div>"
      ],
      "text/plain": [
       "    Brand  Model  Memory  Storage  Rating  Selling Price\n",
       "0       0      0     4.0     64.0     4.5        11990.0\n",
       "1       0      0     4.0     64.0     4.5        11990.0\n",
       "2       0      0     6.0    128.0     4.3        13990.0\n",
       "3       0      0     6.0    128.0     4.3        13990.0\n",
       "4       0      0     4.0     64.0     4.5        11990.0\n",
       "5       0      0     6.0    128.0     4.3        13990.0\n",
       "6       0      1     4.0     64.0     4.4        10490.0\n",
       "7       0      1     3.0     32.0     4.4         9490.0\n",
       "8       0      1     3.0     32.0     4.4         9490.0\n",
       "9       0      1     3.0     32.0     4.4         9490.0\n",
       "10      0      1     3.0     32.0     4.4         9490.0\n",
       "11      0      1     4.0     64.0     4.4        10490.0\n",
       "12      0      2     6.0    128.0     4.3        15990.0\n",
       "13      0      2     6.0    128.0     4.3        15990.0\n",
       "14      0      1     4.0     64.0     4.4        10490.0\n",
       "15      0      2     8.0    128.0     4.3        17990.0\n",
       "16      0      2     8.0    128.0     4.3        17990.0\n",
       "17      0      3     3.0     32.0     4.3        10490.0\n",
       "18      0      4     4.0     64.0     4.3        11960.0\n",
       "19      0      4     4.0     64.0     4.3        11779.0"
      ]
     },
     "execution_count": 32,
     "metadata": {},
     "output_type": "execute_result"
    }
   ],
   "source": [
    "df.head(20)"
   ]
  },
  {
   "cell_type": "code",
   "execution_count": 41,
   "id": "e66550c8",
   "metadata": {},
   "outputs": [],
   "source": [
    "inputs = df.drop('Selling Price',axis=1)"
   ]
  },
  {
   "cell_type": "code",
   "execution_count": 42,
   "id": "ef058c0d",
   "metadata": {},
   "outputs": [],
   "source": [
    "output = df['Selling Price']"
   ]
  },
  {
   "cell_type": "code",
   "execution_count": 35,
   "id": "fab226bb",
   "metadata": {},
   "outputs": [],
   "source": [
    "from sklearn.linear_model import LinearRegression\n"
   ]
  },
  {
   "cell_type": "code",
   "execution_count": null,
   "id": "00f020e6",
   "metadata": {},
   "outputs": [],
   "source": []
  },
  {
   "cell_type": "code",
   "execution_count": 36,
   "id": "51ed9ae2",
   "metadata": {},
   "outputs": [
    {
     "data": {
      "text/plain": [
       "Brand              0\n",
       "Model              0\n",
       "Memory           125\n",
       "Storage           22\n",
       "Rating             0\n",
       "Selling Price      0\n",
       "dtype: int64"
      ]
     },
     "execution_count": 36,
     "metadata": {},
     "output_type": "execute_result"
    }
   ],
   "source": [
    "df.isnull().sum()"
   ]
  },
  {
   "cell_type": "code",
   "execution_count": 37,
   "id": "b8f817b1",
   "metadata": {},
   "outputs": [],
   "source": [
    "df.dropna(inplace=True)"
   ]
  },
  {
   "cell_type": "code",
   "execution_count": 38,
   "id": "6d91584b",
   "metadata": {},
   "outputs": [
    {
     "data": {
      "text/plain": [
       "Brand            0\n",
       "Model            0\n",
       "Memory           0\n",
       "Storage          0\n",
       "Rating           0\n",
       "Selling Price    0\n",
       "dtype: int64"
      ]
     },
     "execution_count": 38,
     "metadata": {},
     "output_type": "execute_result"
    }
   ],
   "source": [
    "df.isnull().sum()"
   ]
  },
  {
   "cell_type": "code",
   "execution_count": 39,
   "id": "5a9b39b2",
   "metadata": {},
   "outputs": [
    {
     "data": {
      "text/html": [
       "<div>\n",
       "<style scoped>\n",
       "    .dataframe tbody tr th:only-of-type {\n",
       "        vertical-align: middle;\n",
       "    }\n",
       "\n",
       "    .dataframe tbody tr th {\n",
       "        vertical-align: top;\n",
       "    }\n",
       "\n",
       "    .dataframe thead th {\n",
       "        text-align: right;\n",
       "    }\n",
       "</style>\n",
       "<table border=\"1\" class=\"dataframe\">\n",
       "  <thead>\n",
       "    <tr style=\"text-align: right;\">\n",
       "      <th></th>\n",
       "      <th>Brand</th>\n",
       "      <th>Model</th>\n",
       "      <th>Memory</th>\n",
       "      <th>Storage</th>\n",
       "      <th>Rating</th>\n",
       "      <th>Selling Price</th>\n",
       "    </tr>\n",
       "  </thead>\n",
       "  <tbody>\n",
       "    <tr>\n",
       "      <th>0</th>\n",
       "      <td>0</td>\n",
       "      <td>0</td>\n",
       "      <td>4.0</td>\n",
       "      <td>64.0</td>\n",
       "      <td>4.5</td>\n",
       "      <td>11990.0</td>\n",
       "    </tr>\n",
       "    <tr>\n",
       "      <th>1</th>\n",
       "      <td>0</td>\n",
       "      <td>0</td>\n",
       "      <td>4.0</td>\n",
       "      <td>64.0</td>\n",
       "      <td>4.5</td>\n",
       "      <td>11990.0</td>\n",
       "    </tr>\n",
       "    <tr>\n",
       "      <th>2</th>\n",
       "      <td>0</td>\n",
       "      <td>0</td>\n",
       "      <td>6.0</td>\n",
       "      <td>128.0</td>\n",
       "      <td>4.3</td>\n",
       "      <td>13990.0</td>\n",
       "    </tr>\n",
       "    <tr>\n",
       "      <th>3</th>\n",
       "      <td>0</td>\n",
       "      <td>0</td>\n",
       "      <td>6.0</td>\n",
       "      <td>128.0</td>\n",
       "      <td>4.3</td>\n",
       "      <td>13990.0</td>\n",
       "    </tr>\n",
       "    <tr>\n",
       "      <th>4</th>\n",
       "      <td>0</td>\n",
       "      <td>0</td>\n",
       "      <td>4.0</td>\n",
       "      <td>64.0</td>\n",
       "      <td>4.5</td>\n",
       "      <td>11990.0</td>\n",
       "    </tr>\n",
       "    <tr>\n",
       "      <th>...</th>\n",
       "      <td>...</td>\n",
       "      <td>...</td>\n",
       "      <td>...</td>\n",
       "      <td>...</td>\n",
       "      <td>...</td>\n",
       "      <td>...</td>\n",
       "    </tr>\n",
       "    <tr>\n",
       "      <th>2642</th>\n",
       "      <td>15</td>\n",
       "      <td>773</td>\n",
       "      <td>4.0</td>\n",
       "      <td>64.0</td>\n",
       "      <td>4.3</td>\n",
       "      <td>12999.0</td>\n",
       "    </tr>\n",
       "    <tr>\n",
       "      <th>2643</th>\n",
       "      <td>15</td>\n",
       "      <td>773</td>\n",
       "      <td>3.0</td>\n",
       "      <td>32.0</td>\n",
       "      <td>4.3</td>\n",
       "      <td>9450.0</td>\n",
       "    </tr>\n",
       "    <tr>\n",
       "      <th>2644</th>\n",
       "      <td>15</td>\n",
       "      <td>773</td>\n",
       "      <td>4.0</td>\n",
       "      <td>64.0</td>\n",
       "      <td>4.2</td>\n",
       "      <td>12999.0</td>\n",
       "    </tr>\n",
       "    <tr>\n",
       "      <th>2645</th>\n",
       "      <td>15</td>\n",
       "      <td>773</td>\n",
       "      <td>3.0</td>\n",
       "      <td>32.0</td>\n",
       "      <td>4.2</td>\n",
       "      <td>9950.0</td>\n",
       "    </tr>\n",
       "    <tr>\n",
       "      <th>2646</th>\n",
       "      <td>15</td>\n",
       "      <td>773</td>\n",
       "      <td>4.0</td>\n",
       "      <td>64.0</td>\n",
       "      <td>4.3</td>\n",
       "      <td>12499.0</td>\n",
       "    </tr>\n",
       "  </tbody>\n",
       "</table>\n",
       "<p>2393 rows × 6 columns</p>\n",
       "</div>"
      ],
      "text/plain": [
       "      Brand  Model  Memory  Storage  Rating  Selling Price\n",
       "0         0      0     4.0     64.0     4.5        11990.0\n",
       "1         0      0     4.0     64.0     4.5        11990.0\n",
       "2         0      0     6.0    128.0     4.3        13990.0\n",
       "3         0      0     6.0    128.0     4.3        13990.0\n",
       "4         0      0     4.0     64.0     4.5        11990.0\n",
       "...     ...    ...     ...      ...     ...            ...\n",
       "2642     15    773     4.0     64.0     4.3        12999.0\n",
       "2643     15    773     3.0     32.0     4.3         9450.0\n",
       "2644     15    773     4.0     64.0     4.2        12999.0\n",
       "2645     15    773     3.0     32.0     4.2         9950.0\n",
       "2646     15    773     4.0     64.0     4.3        12499.0\n",
       "\n",
       "[2393 rows x 6 columns]"
      ]
     },
     "execution_count": 39,
     "metadata": {},
     "output_type": "execute_result"
    }
   ],
   "source": [
    "df"
   ]
  },
  {
   "cell_type": "code",
   "execution_count": 43,
   "id": "c7e9cb74",
   "metadata": {},
   "outputs": [
    {
     "data": {
      "text/plain": [
       "LinearRegression()"
      ]
     },
     "execution_count": 43,
     "metadata": {},
     "output_type": "execute_result"
    }
   ],
   "source": [
    "lr = LinearRegression()\n",
    "lr.fit(inputs,output)"
   ]
  },
  {
   "cell_type": "code",
   "execution_count": 44,
   "id": "b6a72aac",
   "metadata": {},
   "outputs": [
    {
     "data": {
      "text/plain": [
       "Brand                0.0\n",
       "Model                5.0\n",
       "Memory               6.0\n",
       "Storage            128.0\n",
       "Rating               4.3\n",
       "Selling Price    18979.0\n",
       "Name: 20, dtype: float64"
      ]
     },
     "execution_count": 44,
     "metadata": {},
     "output_type": "execute_result"
    }
   ],
   "source": [
    "df.loc[20]"
   ]
  },
  {
   "cell_type": "code",
   "execution_count": 45,
   "id": "e2edbcda",
   "metadata": {},
   "outputs": [
    {
     "name": "stderr",
     "output_type": "stream",
     "text": [
      "c:\\users\\palle\\appdata\\local\\programs\\python\\python38-32\\lib\\site-packages\\sklearn\\base.py:441: UserWarning: X does not have valid feature names, but LinearRegression was fitted with feature names\n",
      "  warnings.warn(\n"
     ]
    },
    {
     "data": {
      "text/plain": [
       "array([28901.33312067])"
      ]
     },
     "execution_count": 45,
     "metadata": {},
     "output_type": "execute_result"
    }
   ],
   "source": [
    "lr.predict([[0,5,6,128,4.3]])"
   ]
  },
  {
   "cell_type": "code",
   "execution_count": 46,
   "id": "e147fd45",
   "metadata": {},
   "outputs": [
    {
     "data": {
      "text/plain": [
       "Lasso()"
      ]
     },
     "execution_count": 46,
     "metadata": {},
     "output_type": "execute_result"
    }
   ],
   "source": [
    "from sklearn.linear_model import Lasso\n",
    "\n",
    "\n",
    "ls = Lasso()\n",
    "ls.fit(inputs,output)"
   ]
  },
  {
   "cell_type": "code",
   "execution_count": 47,
   "id": "7769409c",
   "metadata": {},
   "outputs": [
    {
     "name": "stderr",
     "output_type": "stream",
     "text": [
      "c:\\users\\palle\\appdata\\local\\programs\\python\\python38-32\\lib\\site-packages\\sklearn\\base.py:441: UserWarning: X does not have valid feature names, but Lasso was fitted with feature names\n",
      "  warnings.warn(\n"
     ]
    },
    {
     "data": {
      "text/plain": [
       "array([28900.66380973])"
      ]
     },
     "execution_count": 47,
     "metadata": {},
     "output_type": "execute_result"
    }
   ],
   "source": [
    "ls.predict([[0,5,6,128,4.3]])"
   ]
  },
  {
   "cell_type": "code",
   "execution_count": 48,
   "id": "83ea487a",
   "metadata": {},
   "outputs": [
    {
     "data": {
      "text/plain": [
       "Brand                0.0\n",
       "Model               12.0\n",
       "Memory               8.0\n",
       "Storage            128.0\n",
       "Rating               4.4\n",
       "Selling Price    35990.0\n",
       "Name: 40, dtype: float64"
      ]
     },
     "execution_count": 48,
     "metadata": {},
     "output_type": "execute_result"
    }
   ],
   "source": [
    "df.loc[40]"
   ]
  },
  {
   "cell_type": "code",
   "execution_count": 49,
   "id": "baedc62a",
   "metadata": {},
   "outputs": [
    {
     "name": "stderr",
     "output_type": "stream",
     "text": [
      "c:\\users\\palle\\appdata\\local\\programs\\python\\python38-32\\lib\\site-packages\\sklearn\\base.py:441: UserWarning: X does not have valid feature names, but Lasso was fitted with feature names\n",
      "  warnings.warn(\n"
     ]
    },
    {
     "data": {
      "text/plain": [
       "array([28474.4977999])"
      ]
     },
     "execution_count": 49,
     "metadata": {},
     "output_type": "execute_result"
    }
   ],
   "source": [
    "ls.predict([[0.0,12.0,8.0,128.0,4.4]])"
   ]
  },
  {
   "cell_type": "code",
   "execution_count": 50,
   "id": "3ee74d3f",
   "metadata": {},
   "outputs": [],
   "source": [
    "from sklearn.ensemble import RandomForestRegressor"
   ]
  },
  {
   "cell_type": "code",
   "execution_count": 51,
   "id": "834a4489",
   "metadata": {},
   "outputs": [
    {
     "data": {
      "text/plain": [
       "RandomForestRegressor()"
      ]
     },
     "execution_count": 51,
     "metadata": {},
     "output_type": "execute_result"
    }
   ],
   "source": [
    "rf = RandomForestRegressor()\n",
    "rf.fit(inputs,output)"
   ]
  },
  {
   "cell_type": "code",
   "execution_count": 52,
   "id": "719c19ea",
   "metadata": {},
   "outputs": [
    {
     "name": "stderr",
     "output_type": "stream",
     "text": [
      "c:\\users\\palle\\appdata\\local\\programs\\python\\python38-32\\lib\\site-packages\\sklearn\\base.py:441: UserWarning: X does not have valid feature names, but RandomForestRegressor was fitted with feature names\n",
      "  warnings.warn(\n"
     ]
    },
    {
     "data": {
      "text/plain": [
       "array([34729.41666667])"
      ]
     },
     "execution_count": 52,
     "metadata": {},
     "output_type": "execute_result"
    }
   ],
   "source": [
    "rf.predict([[0.0,12.0,8.0,128.0,4.4]])"
   ]
  },
  {
   "cell_type": "code",
   "execution_count": 53,
   "id": "d04fe7ee",
   "metadata": {},
   "outputs": [
    {
     "name": "stderr",
     "output_type": "stream",
     "text": [
      "c:\\users\\palle\\appdata\\local\\programs\\python\\python38-32\\lib\\site-packages\\sklearn\\base.py:441: UserWarning: X does not have valid feature names, but RandomForestRegressor was fitted with feature names\n",
      "  warnings.warn(\n"
     ]
    },
    {
     "data": {
      "text/plain": [
       "array([17077.83428571])"
      ]
     },
     "execution_count": 53,
     "metadata": {},
     "output_type": "execute_result"
    }
   ],
   "source": [
    "rf.predict([[0,5,6,128,4.3]])"
   ]
  },
  {
   "cell_type": "code",
   "execution_count": 54,
   "id": "1c1fc84f",
   "metadata": {},
   "outputs": [],
   "source": [
    "from sklearn.tree import DecisionTreeRegressor"
   ]
  },
  {
   "cell_type": "code",
   "execution_count": 55,
   "id": "a0aee94e",
   "metadata": {},
   "outputs": [
    {
     "data": {
      "text/plain": [
       "DecisionTreeRegressor()"
      ]
     },
     "execution_count": 55,
     "metadata": {},
     "output_type": "execute_result"
    }
   ],
   "source": [
    "dt = DecisionTreeRegressor()\n",
    "dt.fit(inputs,output)"
   ]
  },
  {
   "cell_type": "code",
   "execution_count": 56,
   "id": "712624a1",
   "metadata": {},
   "outputs": [
    {
     "name": "stderr",
     "output_type": "stream",
     "text": [
      "c:\\users\\palle\\appdata\\local\\programs\\python\\python38-32\\lib\\site-packages\\sklearn\\base.py:441: UserWarning: X does not have valid feature names, but DecisionTreeRegressor was fitted with feature names\n",
      "  warnings.warn(\n"
     ]
    },
    {
     "data": {
      "text/plain": [
       "array([18979.])"
      ]
     },
     "execution_count": 56,
     "metadata": {},
     "output_type": "execute_result"
    }
   ],
   "source": [
    "dt.predict([[0,5,6,128,4.3]])"
   ]
  },
  {
   "cell_type": "code",
   "execution_count": 57,
   "id": "d3936cce",
   "metadata": {},
   "outputs": [
    {
     "name": "stderr",
     "output_type": "stream",
     "text": [
      "c:\\users\\palle\\appdata\\local\\programs\\python\\python38-32\\lib\\site-packages\\sklearn\\base.py:441: UserWarning: X does not have valid feature names, but DecisionTreeRegressor was fitted with feature names\n",
      "  warnings.warn(\n"
     ]
    },
    {
     "data": {
      "text/plain": [
       "array([35990.])"
      ]
     },
     "execution_count": 57,
     "metadata": {},
     "output_type": "execute_result"
    }
   ],
   "source": [
    "dt.predict([[0.0,12.0,8.0,128.0,4.4]])"
   ]
  },
  {
   "cell_type": "code",
   "execution_count": 58,
   "id": "224f9ae6",
   "metadata": {},
   "outputs": [],
   "source": [
    "import pickle\n",
    "file1 = open('model.sav','wb')\n",
    "pickle.dump(dt,file1)"
   ]
  },
  {
   "cell_type": "code",
   "execution_count": null,
   "id": "2a5b6401",
   "metadata": {},
   "outputs": [],
   "source": []
  }
 ],
 "metadata": {
  "kernelspec": {
   "display_name": "Python 3 (ipykernel)",
   "language": "python",
   "name": "python3"
  },
  "language_info": {
   "codemirror_mode": {
    "name": "ipython",
    "version": 3
   },
   "file_extension": ".py",
   "mimetype": "text/x-python",
   "name": "python",
   "nbconvert_exporter": "python",
   "pygments_lexer": "ipython3",
   "version": "3.8.10"
  }
 },
 "nbformat": 4,
 "nbformat_minor": 5
}
